{
 "cells": [
  {
   "cell_type": "markdown",
   "id": "f224b236-5ecb-47f4-b787-944a0ab6de0f",
   "metadata": {},
   "source": [
    "# EDA\n",
    "\n",
    "## Table of Contents\n",
    "\n",
    "I. [Imports](#Imports)<br>\n",
    "II. [Loading the Data](#LoadingtheData)<br>\n",
    "III. [Data Cleaning](#DataCleaning) <br>\n",
    "IV. [Univariate Analysis](#UnivariateAnalysis)<br>\n",
    "V. [User Analysis](#UserAnalysis)<br>\n",
    "VI. [Article Analysis](#Article Analysis)<br>\n",
    "VII. [Outlier Detection](#Outlier Detection)<br>\n",
    "VIII. [Conclusion](#Conclusion)<br>\n"
   ]
  },
  {
   "cell_type": "markdown",
   "id": "a785d40e-4e07-4d56-b41d-eec685f41687",
   "metadata": {},
   "source": [
    "### <a class=\"anchor\" id=\"Imports\">Part I : Imports</a>"
   ]
  },
  {
   "cell_type": "code",
   "execution_count": 8,
   "id": "5d82d947-b7f0-4290-8be4-cfb68b44912a",
   "metadata": {},
   "outputs": [],
   "source": [
    "import os\n",
    "os.chdir('/Users/abiibrahim/PycharmProjects/IBM-recommendation-engine')"
   ]
  },
  {
   "cell_type": "code",
   "execution_count": 8,
   "id": "20ff0985-10ef-4a19-8340-9cadda5023fe",
   "metadata": {},
   "outputs": [
    {
     "data": {
      "text/html": [
       "<div>\n",
       "<style scoped>\n",
       "    .dataframe tbody tr th:only-of-type {\n",
       "        vertical-align: middle;\n",
       "    }\n",
       "\n",
       "    .dataframe tbody tr th {\n",
       "        vertical-align: top;\n",
       "    }\n",
       "\n",
       "    .dataframe thead th {\n",
       "        text-align: right;\n",
       "    }\n",
       "</style>\n",
       "<table border=\"1\" class=\"dataframe\">\n",
       "  <thead>\n",
       "    <tr style=\"text-align: right;\">\n",
       "      <th></th>\n",
       "      <th>article_id</th>\n",
       "      <th>title</th>\n",
       "      <th>email</th>\n",
       "    </tr>\n",
       "  </thead>\n",
       "  <tbody>\n",
       "    <tr>\n",
       "      <th>0</th>\n",
       "      <td>1430.0</td>\n",
       "      <td>using pixiedust for fast, flexible, and easier...</td>\n",
       "      <td>ef5f11f77ba020cd36e1105a00ab868bbdbf7fe7</td>\n",
       "    </tr>\n",
       "    <tr>\n",
       "      <th>1</th>\n",
       "      <td>1314.0</td>\n",
       "      <td>healthcare python streaming application demo</td>\n",
       "      <td>083cbdfa93c8444beaa4c5f5e0f5f9198e4f9e0b</td>\n",
       "    </tr>\n",
       "    <tr>\n",
       "      <th>2</th>\n",
       "      <td>1429.0</td>\n",
       "      <td>use deep learning for image classification</td>\n",
       "      <td>b96a4f2e92d8572034b1e9b28f9ac673765cd074</td>\n",
       "    </tr>\n",
       "    <tr>\n",
       "      <th>3</th>\n",
       "      <td>1338.0</td>\n",
       "      <td>ml optimization using cognitive assistant</td>\n",
       "      <td>06485706b34a5c9bf2a0ecdac41daf7e7654ceb7</td>\n",
       "    </tr>\n",
       "    <tr>\n",
       "      <th>4</th>\n",
       "      <td>1276.0</td>\n",
       "      <td>deploy your python model as a restful api</td>\n",
       "      <td>f01220c46fc92c6e6b161b1849de11faacd7ccb2</td>\n",
       "    </tr>\n",
       "  </tbody>\n",
       "</table>\n",
       "</div>"
      ],
      "text/plain": [
       "   article_id                                              title  \\\n",
       "0      1430.0  using pixiedust for fast, flexible, and easier...   \n",
       "1      1314.0       healthcare python streaming application demo   \n",
       "2      1429.0         use deep learning for image classification   \n",
       "3      1338.0          ml optimization using cognitive assistant   \n",
       "4      1276.0          deploy your python model as a restful api   \n",
       "\n",
       "                                      email  \n",
       "0  ef5f11f77ba020cd36e1105a00ab868bbdbf7fe7  \n",
       "1  083cbdfa93c8444beaa4c5f5e0f5f9198e4f9e0b  \n",
       "2  b96a4f2e92d8572034b1e9b28f9ac673765cd074  \n",
       "3  06485706b34a5c9bf2a0ecdac41daf7e7654ceb7  \n",
       "4  f01220c46fc92c6e6b161b1849de11faacd7ccb2  "
      ]
     },
     "execution_count": 9,
     "metadata": {},
     "output_type": "execute_result"
    }
   ],
   "source": [
    "# EDA Template\n",
    "\n",
    "## 1. Importing Libraries\n",
    "import pandas as pd\n",
    "import numpy as np\n",
    "import matplotlib.pyplot as plt\n",
    "import seaborn as sns\n",
    "import plotly.express as px\n",
    "import plotly.graph_objects as go\n",
    "#import src.project_tests as t\n",
    "from src import project_tests as t\n",
    "import pickle\n",
    "\n",
    "%matplotlib inline\n",
    "# Setting default style for plots\n",
    "sns.set_palette('pastel')"
   ]
  },
  {
   "cell_type": "markdown",
   "id": "2cb959b2-c7f2-4f09-859c-0413a19f35d7",
   "metadata": {},
   "source": [
    "### <a class=\"anchor\" id=\"LoadingtheData\">Part II : Loading the Data</a>"
   ]
  },
  {
   "cell_type": "code",
   "execution_count": 17,
   "id": "b19f15f0-895f-4da1-894f-a4913c86b7ce",
   "metadata": {},
   "outputs": [
    {
     "data": {
      "text/html": [
       "<div>\n",
       "<style scoped>\n",
       "    .dataframe tbody tr th:only-of-type {\n",
       "        vertical-align: middle;\n",
       "    }\n",
       "\n",
       "    .dataframe tbody tr th {\n",
       "        vertical-align: top;\n",
       "    }\n",
       "\n",
       "    .dataframe thead th {\n",
       "        text-align: right;\n",
       "    }\n",
       "</style>\n",
       "<table border=\"1\" class=\"dataframe\">\n",
       "  <thead>\n",
       "    <tr style=\"text-align: right;\">\n",
       "      <th></th>\n",
       "      <th>article_id</th>\n",
       "      <th>title</th>\n",
       "      <th>email</th>\n",
       "    </tr>\n",
       "  </thead>\n",
       "  <tbody>\n",
       "    <tr>\n",
       "      <th>0</th>\n",
       "      <td>1430.0</td>\n",
       "      <td>using pixiedust for fast, flexible, and easier...</td>\n",
       "      <td>ef5f11f77ba020cd36e1105a00ab868bbdbf7fe7</td>\n",
       "    </tr>\n",
       "    <tr>\n",
       "      <th>1</th>\n",
       "      <td>1314.0</td>\n",
       "      <td>healthcare python streaming application demo</td>\n",
       "      <td>083cbdfa93c8444beaa4c5f5e0f5f9198e4f9e0b</td>\n",
       "    </tr>\n",
       "    <tr>\n",
       "      <th>2</th>\n",
       "      <td>1429.0</td>\n",
       "      <td>use deep learning for image classification</td>\n",
       "      <td>b96a4f2e92d8572034b1e9b28f9ac673765cd074</td>\n",
       "    </tr>\n",
       "    <tr>\n",
       "      <th>3</th>\n",
       "      <td>1338.0</td>\n",
       "      <td>ml optimization using cognitive assistant</td>\n",
       "      <td>06485706b34a5c9bf2a0ecdac41daf7e7654ceb7</td>\n",
       "    </tr>\n",
       "    <tr>\n",
       "      <th>4</th>\n",
       "      <td>1276.0</td>\n",
       "      <td>deploy your python model as a restful api</td>\n",
       "      <td>f01220c46fc92c6e6b161b1849de11faacd7ccb2</td>\n",
       "    </tr>\n",
       "  </tbody>\n",
       "</table>\n",
       "</div>"
      ],
      "text/plain": [
       "   article_id                                              title  \\\n",
       "0      1430.0  using pixiedust for fast, flexible, and easier...   \n",
       "1      1314.0       healthcare python streaming application demo   \n",
       "2      1429.0         use deep learning for image classification   \n",
       "3      1338.0          ml optimization using cognitive assistant   \n",
       "4      1276.0          deploy your python model as a restful api   \n",
       "\n",
       "                                      email  \n",
       "0  ef5f11f77ba020cd36e1105a00ab868bbdbf7fe7  \n",
       "1  083cbdfa93c8444beaa4c5f5e0f5f9198e4f9e0b  \n",
       "2  b96a4f2e92d8572034b1e9b28f9ac673765cd074  \n",
       "3  06485706b34a5c9bf2a0ecdac41daf7e7654ceb7  \n",
       "4  f01220c46fc92c6e6b161b1849de11faacd7ccb2  "
      ]
     },
     "execution_count": 17,
     "metadata": {},
     "output_type": "execute_result"
    }
   ],
   "source": [
    "df = pd.read_csv('data/user-item-interactions.csv')\n",
    "df_content = pd.read_csv('data/articles_community.csv')\n",
    "del df['Unnamed: 0']\n",
    "del df_content['Unnamed: 0']\n",
    "\n",
    "# Show first few rows\n",
    "df.head()\n"
   ]
  },
  {
   "cell_type": "code",
   "execution_count": 18,
   "id": "23bb387b-d8bb-4a81-84fc-6130ea80a29c",
   "metadata": {},
   "outputs": [
    {
     "name": "stdout",
     "output_type": "stream",
     "text": [
      "<class 'pandas.core.frame.DataFrame'>\n",
      "RangeIndex: 45993 entries, 0 to 45992\n",
      "Data columns (total 3 columns):\n",
      " #   Column      Non-Null Count  Dtype  \n",
      "---  ------      --------------  -----  \n",
      " 0   article_id  45993 non-null  float64\n",
      " 1   title       45993 non-null  object \n",
      " 2   email       45976 non-null  object \n",
      "dtypes: float64(1), object(2)\n",
      "memory usage: 1.1+ MB\n"
     ]
    },
    {
     "data": {
      "text/html": [
       "<div>\n",
       "<style scoped>\n",
       "    .dataframe tbody tr th:only-of-type {\n",
       "        vertical-align: middle;\n",
       "    }\n",
       "\n",
       "    .dataframe tbody tr th {\n",
       "        vertical-align: top;\n",
       "    }\n",
       "\n",
       "    .dataframe thead th {\n",
       "        text-align: right;\n",
       "    }\n",
       "</style>\n",
       "<table border=\"1\" class=\"dataframe\">\n",
       "  <thead>\n",
       "    <tr style=\"text-align: right;\">\n",
       "      <th></th>\n",
       "      <th>article_id</th>\n",
       "      <th>title</th>\n",
       "      <th>email</th>\n",
       "    </tr>\n",
       "  </thead>\n",
       "  <tbody>\n",
       "    <tr>\n",
       "      <th>count</th>\n",
       "      <td>45993.000000</td>\n",
       "      <td>45993</td>\n",
       "      <td>45976</td>\n",
       "    </tr>\n",
       "    <tr>\n",
       "      <th>unique</th>\n",
       "      <td>NaN</td>\n",
       "      <td>714</td>\n",
       "      <td>5148</td>\n",
       "    </tr>\n",
       "    <tr>\n",
       "      <th>top</th>\n",
       "      <td>NaN</td>\n",
       "      <td>use deep learning for image classification</td>\n",
       "      <td>2b6c0f514c2f2b04ad3c4583407dccd0810469ee</td>\n",
       "    </tr>\n",
       "    <tr>\n",
       "      <th>freq</th>\n",
       "      <td>NaN</td>\n",
       "      <td>937</td>\n",
       "      <td>364</td>\n",
       "    </tr>\n",
       "    <tr>\n",
       "      <th>mean</th>\n",
       "      <td>908.846477</td>\n",
       "      <td>NaN</td>\n",
       "      <td>NaN</td>\n",
       "    </tr>\n",
       "    <tr>\n",
       "      <th>std</th>\n",
       "      <td>486.647866</td>\n",
       "      <td>NaN</td>\n",
       "      <td>NaN</td>\n",
       "    </tr>\n",
       "    <tr>\n",
       "      <th>min</th>\n",
       "      <td>0.000000</td>\n",
       "      <td>NaN</td>\n",
       "      <td>NaN</td>\n",
       "    </tr>\n",
       "    <tr>\n",
       "      <th>25%</th>\n",
       "      <td>460.000000</td>\n",
       "      <td>NaN</td>\n",
       "      <td>NaN</td>\n",
       "    </tr>\n",
       "    <tr>\n",
       "      <th>50%</th>\n",
       "      <td>1151.000000</td>\n",
       "      <td>NaN</td>\n",
       "      <td>NaN</td>\n",
       "    </tr>\n",
       "    <tr>\n",
       "      <th>75%</th>\n",
       "      <td>1336.000000</td>\n",
       "      <td>NaN</td>\n",
       "      <td>NaN</td>\n",
       "    </tr>\n",
       "    <tr>\n",
       "      <th>max</th>\n",
       "      <td>1444.000000</td>\n",
       "      <td>NaN</td>\n",
       "      <td>NaN</td>\n",
       "    </tr>\n",
       "  </tbody>\n",
       "</table>\n",
       "</div>"
      ],
      "text/plain": [
       "          article_id                                       title  \\\n",
       "count   45993.000000                                       45993   \n",
       "unique           NaN                                         714   \n",
       "top              NaN  use deep learning for image classification   \n",
       "freq             NaN                                         937   \n",
       "mean      908.846477                                         NaN   \n",
       "std       486.647866                                         NaN   \n",
       "min         0.000000                                         NaN   \n",
       "25%       460.000000                                         NaN   \n",
       "50%      1151.000000                                         NaN   \n",
       "75%      1336.000000                                         NaN   \n",
       "max      1444.000000                                         NaN   \n",
       "\n",
       "                                           email  \n",
       "count                                      45976  \n",
       "unique                                      5148  \n",
       "top     2b6c0f514c2f2b04ad3c4583407dccd0810469ee  \n",
       "freq                                         364  \n",
       "mean                                         NaN  \n",
       "std                                          NaN  \n",
       "min                                          NaN  \n",
       "25%                                          NaN  \n",
       "50%                                          NaN  \n",
       "75%                                          NaN  \n",
       "max                                          NaN  "
      ]
     },
     "execution_count": 18,
     "metadata": {},
     "output_type": "execute_result"
    }
   ],
   "source": [
    "# Basic info about the dataset\n",
    "df.info()\n",
    "\n",
    "# Summary statistics\n",
    "df.describe(include='all')\n"
   ]
  },
  {
   "cell_type": "markdown",
   "id": "4eef22b5-cf22-4a18-acba-6ce612b67929",
   "metadata": {},
   "source": [
    "### <a class=\"anchor\" id=\"DataCleaning\">Part III : Data Cleaning</a>\n"
   ]
  },
  {
   "cell_type": "code",
   "execution_count": 21,
   "id": "439bcae9-e887-43d5-869a-cd64faaa0ae5",
   "metadata": {},
   "outputs": [
    {
     "name": "stdout",
     "output_type": "stream",
     "text": [
      "article_id     0\n",
      "title          0\n",
      "email         13\n",
      "dtype: int64\n",
      "Total duplicate values: 0\n"
     ]
    }
   ],
   "source": [
    "# Checking for missing values\n",
    "print(df.isnull().sum())\n",
    "\n",
    "# Handling missing values (examples)\n",
    "# df.fillna(df.mean(), inplace=True)  # For numerical columns\n",
    "# df['column_name'].fillna('Unknown', inplace=True)  # For categorical columns\n",
    "\n",
    "# Checking for duplicate values and dropping duplicates\n",
    "print(f\"Total duplicate values: {df.duplicated().sum()}\")"
   ]
  },
  {
   "cell_type": "markdown",
   "id": "c60c50c8-5341-4366-88b1-04bcdefe32da",
   "metadata": {},
   "source": [
    "### <a class=\"anchor\" id=\"UnivariateAnalysis\">Part IV : Univariate Analysis</a>\n"
   ]
  },
  {
   "cell_type": "code",
   "execution_count": null,
   "id": "eecff84c-2f0d-476d-b9bc-d914b180f8df",
   "metadata": {},
   "outputs": [],
   "source": [
    "# Distribution of numerical features\n",
    "df.hist(figsize=(16, 12), bins=30, edgecolor='black')\n",
    "plt.suptitle('Histograms of Numerical Features', size=20)\n",
    "plt.show()\n",
    "\n",
    "# Distribution of categorical features\n",
    "for col in df.select_dtypes(include='object').columns:\n",
    "    plt.figure(figsize=(10, 4))\n",
    "    sns.countplot(data=df, x=col, palette='viridis')\n",
    "    plt.title(f'Distribution of {col}', size=15)\n",
    "    plt.xticks(rotation=45)\n",
    "    plt.show()\n"
   ]
  },
  {
   "cell_type": "markdown",
   "id": "e024d9dc-08c4-4c39-a068-4677641fd8d8",
   "metadata": {},
   "source": [
    "### <a class=\"anchor\" id=\"UserAnalysis\">Part V : User Analysis</a>\n"
   ]
  },
  {
   "cell_type": "markdown",
   "id": "768d460e-029a-43ea-80fa-f9fdb1c42148",
   "metadata": {},
   "source": [
    "`1.` What is the distribution of how many articles a user interacts with in the dataset?  Provide a visual and descriptive statistics to assist with giving a look at the number of times each user interacts with an article.  "
   ]
  },
  {
   "cell_type": "code",
   "execution_count": null,
   "id": "ed01e0a6-e710-4953-8e42-4dd1a9f79be6",
   "metadata": {},
   "outputs": [],
   "source": [
    "# Fill in the median and maximum number of user_article interactios below\n",
    "\n",
    "median_val = # 50% of individuals interact with ____ number of articles or fewer.\n",
    "max_views_by_user = # The maximum number of user-article interactions by any 1 user is ______."
   ]
  },
  {
   "cell_type": "markdown",
   "id": "1cc1a9e7-54c2-4bd3-a330-a82d986055d1",
   "metadata": {},
   "source": [
    "### <a class=\"anchor\" id=\"ArticleAnalysis\">Part VI : Article Analysis</a>"
   ]
  },
  {
   "cell_type": "code",
   "execution_count": null,
   "id": "5c100115-e6a3-42c9-b6a9-b7f6c5bc9c0b",
   "metadata": {},
   "outputs": [],
   "source": [
    "# Find and explore duplicate articles"
   ]
  },
  {
   "cell_type": "code",
   "execution_count": null,
   "id": "e2fc2b1f-df3a-4192-888f-1b6fe7452c14",
   "metadata": {},
   "outputs": [],
   "source": [
    "# Remove any rows that have the same article_id - only keep the first"
   ]
  },
  {
   "cell_type": "markdown",
   "id": "9cc3cbc0-0b61-4756-a5c5-38648fb4c2f1",
   "metadata": {},
   "source": [
    "`3.` Use the cells below to find:\n",
    "\n",
    "**a.** The number of unique articles that have an interaction with a user.  \n",
    "**b.** The number of unique articles in the dataset (whether they have any interactions or not).<br>\n",
    "**c.** The number of unique users in the dataset. (excluding null values) <br>\n",
    "**d.** The number of user-article interactions in the dataset."
   ]
  },
  {
   "cell_type": "code",
   "execution_count": null,
   "id": "00930a12-0e35-4ab3-acdc-a8f474103a29",
   "metadata": {},
   "outputs": [],
   "source": []
  },
  {
   "cell_type": "code",
   "execution_count": null,
   "id": "b00501a7-0586-4ed2-9800-c4b9112aae64",
   "metadata": {},
   "outputs": [],
   "source": [
    "unique_articles = # The number of unique articles that have at least one interaction\n",
    "total_articles = # The number of unique articles on the IBM platform\n",
    "unique_users = # The number of unique users\n",
    "user_article_interactions = # The number of user-article interactions"
   ]
  },
  {
   "cell_type": "code",
   "execution_count": null,
   "id": "8b031b9c-0344-45a0-9cf8-031272638c79",
   "metadata": {},
   "outputs": [],
   "source": [
    "`4.` Use the cells below to find the most viewed **article_id**, as well as how often it was viewed.  After talking to the company leaders, the `email_mapper` function was deemed a reasonable way to map users to ids.  There were a small number of null values, and it was found that all of these null values likely belonged to a single user (which is how they are stored using the function below)."
   ]
  },
  {
   "cell_type": "code",
   "execution_count": null,
   "id": "b089de3d-e5ed-48d3-893a-d9c174a93f2b",
   "metadata": {},
   "outputs": [],
   "source": [
    "most_viewed_article_id = # The most viewed article in the dataset as a string with one value following the decimal \n",
    "max_views = # The most viewed article in the dataset was viewed how many times?"
   ]
  },
  {
   "cell_type": "code",
   "execution_count": null,
   "id": "b944f77b-3290-4374-8ce9-7888c09b1f1d",
   "metadata": {},
   "outputs": [],
   "source": [
    "## No need to change the code here - this will be helpful for later parts of the notebook\n",
    "# Run this cell to map the user email to a user_id column and remove the email column\n",
    "\n",
    "def email_mapper():\n",
    "    coded_dict = dict()\n",
    "    cter = 1\n",
    "    email_encoded = []\n",
    "    \n",
    "    for val in df['email']:\n",
    "        if val not in coded_dict:\n",
    "            coded_dict[val] = cter\n",
    "            cter+=1\n",
    "        \n",
    "        email_encoded.append(coded_dict[val])\n",
    "    return email_encoded\n",
    "\n",
    "email_encoded = email_mapper()\n",
    "del df['email']\n",
    "df['user_id'] = email_encoded\n",
    "\n",
    "# show header\n",
    "df.head()"
   ]
  },
  {
   "cell_type": "code",
   "execution_count": null,
   "id": "3fbc3f57-1761-49d6-8572-6a3d7536778f",
   "metadata": {},
   "outputs": [],
   "source": [
    "## If you stored all your results in the variable names above, \n",
    "## you shouldn't need to change anything in this cell\n",
    "\n",
    "sol_1_dict = {\n",
    "    '`50% of individuals have _____ or fewer interactions.`': median_val,\n",
    "    '`The total number of user-article interactions in the dataset is ______.`': user_article_interactions,\n",
    "    '`The maximum number of user-article interactions by any 1 user is ______.`': max_views_by_user,\n",
    "    '`The most viewed article in the dataset was viewed _____ times.`': max_views,\n",
    "    '`The article_id of the most viewed article is ______.`': most_viewed_article_id,\n",
    "    '`The number of unique articles that have at least 1 rating ______.`': unique_articles,\n",
    "    '`The number of unique users in the dataset is ______`': unique_users,\n",
    "    '`The number of unique articles on the IBM platform`': total_articles\n",
    "}\n",
    "\n",
    "# Test your dictionary against the solution\n",
    "t.sol_1_test(sol_1_dict)"
   ]
  },
  {
   "cell_type": "markdown",
   "id": "d08fb952-e6c6-499d-a9c6-45d0b5705dc4",
   "metadata": {},
   "source": [
    "### <a class=\"anchor\" id=\"OutlierDetection\">Part VII : Outlier Detection</a>\n"
   ]
  },
  {
   "cell_type": "code",
   "execution_count": null,
   "id": "ccef2716-2ebb-4921-988e-bce5c2da0c38",
   "metadata": {},
   "outputs": [],
   "source": [
    "# Boxplot for outlier detection\n",
    "for col in df.select_dtypes(include=np.number).columns:\n",
    "    plt.figure(figsize=(10, 4))\n",
    "    sns.boxplot(x=df[col], palette='Set3')\n",
    "    plt.title(f'Boxplot of {col}', size=15)\n",
    "    plt.show()\n",
    "\n",
    "# Using Z-score or IQR to detect outliers\n",
    "from scipy import stats\n",
    "\n",
    "z_scores = np.abs(stats.zscore(df.select_dtypes(include=np.number)))\n",
    "df_clean = df[(z_scores < 3).all(axis=1)]\n",
    "\n",
    "# Alternatively, using IQR\n",
    "Q1 = df.quantile(0.25)\n",
    "Q3 = df.quantile(0.75)\n",
    "IQR = Q3 - Q1\n",
    "\n",
    "df_clean = df[~((df < (Q1 - 1.5 * IQR)) |(df > (Q3 + 1.5 * IQR))).any(axis=1)]\n"
   ]
  },
  {
   "cell_type": "markdown",
   "id": "4f1fce1f-60c9-486a-ade1-a49cdf2fe2b5",
   "metadata": {},
   "source": [
    "### <a class=\"anchor\" id=\"Conclusion\">Part VIII : Conclusion</a>"
   ]
  }
 ],
 "metadata": {
  "kernelspec": {
   "display_name": "python312",
   "language": "python",
   "name": "python312"
  },
  "language_info": {
   "codemirror_mode": {
    "name": "ipython",
    "version": 3
   },
   "file_extension": ".py",
   "mimetype": "text/x-python",
   "name": "python",
   "nbconvert_exporter": "python",
   "pygments_lexer": "ipython3",
   "version": "3.12.3"
  }
 },
 "nbformat": 4,
 "nbformat_minor": 5
}
